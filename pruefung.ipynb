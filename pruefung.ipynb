{
 "cells": [
  {
   "cell_type": "markdown",
   "id": "cf115b39",
   "metadata": {},
   "source": [
    "# Informatikprüfung vom 27.10.2023\n",
    "Es sind keine Hilfsmittel erlaubt; während der Prüfung dürfen Sie nur die Prüfung geöffnet haben. Die Lehrperson überprüft die Einhaltung dieser Regel per Remote-Verbindung. Das Öffnen einer anderen Webseite *führt zum sofortigen Abbruch der Prüfung*.\n",
    "\n",
    "**Wichtig**: Speichern Sie regelmässig mit command + S.\n",
    "\n",
    "**Viel Erfolg!**"
   ]
  },
  {
   "cell_type": "markdown",
   "id": "1fc20c4c",
   "metadata": {},
   "source": [
    "## Vornamen, Name, Klasse:"
   ]
  },
  {
   "cell_type": "markdown",
   "id": "97f5b176",
   "metadata": {},
   "source": []
  },
  {
   "cell_type": "markdown",
   "id": "fb389f83",
   "metadata": {},
   "source": [
    "## Prüfungscode:"
   ]
  },
  {
   "cell_type": "markdown",
   "id": "f9db8bd1",
   "metadata": {},
   "source": []
  },
  {
   "cell_type": "markdown",
   "id": "ffe7a6c8",
   "metadata": {},
   "source": [
    "## Aufgabe 1 (2P)\n",
    "Geben Sie 2 Alltags-Beispiele die zur ICT und 2 Beispiele die zur Informatik zählen."
   ]
  },
  {
   "cell_type": "code",
   "execution_count": null,
   "id": "3035a6a9",
   "metadata": {},
   "outputs": [],
   "source": []
  },
  {
   "cell_type": "markdown",
   "id": "e3c3dc23",
   "metadata": {},
   "source": [
    "## Aufgabe 2 (3P)\n",
    "Wieviele Legemöglichkeiten gibt es für ein Affenpuzzle von 6x6? Berechnen Sie mit Hilfe von Python. Wie kommt diese Berechnungsformel zu Stande?"
   ]
  },
  {
   "cell_type": "code",
   "execution_count": null,
   "id": "8a32b46d",
   "metadata": {},
   "outputs": [],
   "source": []
  },
  {
   "cell_type": "markdown",
   "id": "92893f07",
   "metadata": {},
   "source": [
    "## Aufgabe 3 (2P)\n",
    "Welche Datentypen kennen Sie? Notieren Sie zu jedem Datentyp ein Beispiel.\n"
   ]
  },
  {
   "cell_type": "code",
   "execution_count": null,
   "id": "8929a8bc",
   "metadata": {},
   "outputs": [],
   "source": []
  },
  {
   "cell_type": "markdown",
   "id": "573e4bbe",
   "metadata": {},
   "source": [
    "## Aufgabe 4 (1.5P)\n",
    "Was verstehen Sie unter einem Algorithmus? Welche Anforderungen muss ein Algorithmus erfüllen?"
   ]
  },
  {
   "cell_type": "code",
   "execution_count": null,
   "id": "1ee8b30a",
   "metadata": {},
   "outputs": [],
   "source": []
  },
  {
   "cell_type": "markdown",
   "id": "83d3c6cf",
   "metadata": {},
   "source": [
    "## Aufgabe 5 (1P)\n",
    "Der folgende Code führt zu einer Fehlermeldung. Beheben Sie den Fehler.\n",
    "```python\n",
    "class = \"3a\"\n",
    "print(Guten Nachmittag, class !)\n",
    "````"
   ]
  },
  {
   "cell_type": "code",
   "execution_count": 1,
   "id": "7684ef36",
   "metadata": {},
   "outputs": [
    {
     "ename": "SyntaxError",
     "evalue": "invalid syntax (2849674010.py, line 1)",
     "output_type": "error",
     "traceback": [
      "\u001b[0;36m  Cell \u001b[0;32mIn[1], line 1\u001b[0;36m\u001b[0m\n\u001b[0;31m    class = \"3a\"\u001b[0m\n\u001b[0m          ^\u001b[0m\n\u001b[0;31mSyntaxError\u001b[0m\u001b[0;31m:\u001b[0m invalid syntax\n"
     ]
    }
   ],
   "source": [
    "class = \"3a\"\n",
    "print(Guten Nachmittag, class !)"
   ]
  },
  {
   "cell_type": "markdown",
   "id": "9893b446",
   "metadata": {},
   "source": [
    "## Aufgabe 6 (2P)\n",
    "Schreiben Sie ein Programm, das nach ihrem Namen fragt und Sie danach begrüsst."
   ]
  },
  {
   "cell_type": "code",
   "execution_count": null,
   "id": "3bc40138",
   "metadata": {},
   "outputs": [],
   "source": []
  },
  {
   "cell_type": "markdown",
   "id": "902fadfc",
   "metadata": {},
   "source": [
    "## Aufgabe 7 (2P)\n",
    "Schreiben Sie ein Programm, das die Listenelemente aufsteigend sortiert. Verwenden Sie dazu eine `for`-Schleife.\n",
    "```python\n",
    "liste = [4, 2, 5]\n",
    "```"
   ]
  },
  {
   "cell_type": "code",
   "execution_count": null,
   "id": "92cc86c4",
   "metadata": {},
   "outputs": [],
   "source": [
    "liste = [4, 2, 5]"
   ]
  },
  {
   "cell_type": "markdown",
   "id": "dce56145",
   "metadata": {},
   "source": [
    "## Aufgabe 8 (2P)\n",
    "Schreiben Sie ein Programm, das zwei Zahlen, die von einer Benutzerin eingegeben werden, addiert und die Summe ausgibt."
   ]
  },
  {
   "cell_type": "code",
   "execution_count": null,
   "id": "35b180f9",
   "metadata": {},
   "outputs": [],
   "source": []
  },
  {
   "cell_type": "markdown",
   "id": "b53d8b37",
   "metadata": {},
   "source": [
    "## Aufgabe 9 (2P)\n",
    "Schreiben Sie ein Programm, das den Benutzer fragt, ob das Wetter `schön` ist und ob er freie Zeit hat. Ist das Wetter schön *und* hat er freie Zeit, so soll ihm vorgeschlagen werden, dass er doch rausgehen soll."
   ]
  },
  {
   "cell_type": "code",
   "execution_count": null,
   "id": "0c2a1ae5",
   "metadata": {},
   "outputs": [],
   "source": []
  },
  {
   "cell_type": "markdown",
   "id": "5b22d786",
   "metadata": {},
   "source": [
    "## Aufgabe 10 (1P)\n",
    "Beheben Sie den Fehler in folgendem Programm:\n",
    "```python\n",
    "   input() = x\n",
    "   print(x+1)\n",
    "````"
   ]
  },
  {
   "cell_type": "code",
   "execution_count": 3,
   "id": "804a4d1e",
   "metadata": {},
   "outputs": [
    {
     "ename": "SyntaxError",
     "evalue": "cannot assign to function call (1607392407.py, line 1)",
     "output_type": "error",
     "traceback": [
      "\u001b[0;36m  Cell \u001b[0;32mIn[3], line 1\u001b[0;36m\u001b[0m\n\u001b[0;31m    input() = x\u001b[0m\n\u001b[0m    ^\u001b[0m\n\u001b[0;31mSyntaxError\u001b[0m\u001b[0;31m:\u001b[0m cannot assign to function call\n"
     ]
    }
   ],
   "source": [
    "input() = x\n",
    "print(x+1)"
   ]
  },
  {
   "cell_type": "markdown",
   "id": "d9559c28",
   "metadata": {},
   "source": [
    "## Aufgabe 11 (2P)\n",
    "Schreiben Sie ein Programm, das die Anzahl Vokale (a, e, i, o, u) in einem Text zählt. Der Text ist bereits vorgegeben."
   ]
  },
  {
   "cell_type": "code",
   "execution_count": 5,
   "id": "9bcd4634",
   "metadata": {},
   "outputs": [],
   "source": [
    "text = \"In der Welt der Informationstechnologie ist eine zuverlässige Datenübertragung von entscheidender Bedeutung. Moderne Netzwerke verwenden komplexe Protokolle, um sicherzustellen, dass die Kommunikation zwischen Geräten einwandfrei funktioniert. Die sorgfältige Konfiguration von Hardware und Software gewährleistet, dass das gesamte System reibungslos funktioniert.\""
   ]
  },
  {
   "cell_type": "markdown",
   "id": "10ced090",
   "metadata": {},
   "source": [
    "## Aufgabe 12 (3P)\n",
    "Schreiben Sie ein Wörterbuch mit einigen deutschen Wörtern und ihrer Übersetzung ins Englische. Weisen Sie es der Variable d zu und verwenden Sie es dann, indem Sie sich einige Werte darin ausgeben lassen."
   ]
  },
  {
   "cell_type": "markdown",
   "id": "bbed2c4f",
   "metadata": {},
   "source": [
    "## Aufgabe 13 (2P)\n",
    "Schreiben Sie eine eigene Aufgabe und lösen Sie diese."
   ]
  },
  {
   "cell_type": "markdown",
   "id": "fcbb55fc",
   "metadata": {},
   "source": [
    "Aufgabe: gib die Länge eines Worts aus:"
   ]
  },
  {
   "cell_type": "code",
   "execution_count": null,
   "id": "72ba6c6a",
   "metadata": {},
   "outputs": [],
   "source": []
  }
 ],
 "metadata": {
  "kernelspec": {
   "display_name": "Python 3 (ipykernel)",
   "language": "python",
   "name": "python3"
  },
  "language_info": {
   "codemirror_mode": {
    "name": "ipython",
    "version": 3
   },
   "file_extension": ".py",
   "mimetype": "text/x-python",
   "name": "python",
   "nbconvert_exporter": "python",
   "pygments_lexer": "ipython3",
   "version": "3.9.7"
  }
 },
 "nbformat": 4,
 "nbformat_minor": 5
}
